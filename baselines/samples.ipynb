{
 "cells": [
  {
   "cell_type": "code",
   "execution_count": 1,
   "metadata": {},
   "outputs": [],
   "source": [
    "import os\n",
    "import pandas as pd\n",
    "import re\n",
    "import json\n",
    "import pickle as pkl\n",
    "import random"
   ]
  },
  {
   "cell_type": "code",
   "execution_count": 3,
   "metadata": {},
   "outputs": [
    {
     "name": "stdout",
     "output_type": "stream",
     "text": [
      "['0', '1', '2', '3', '1', '2', '3', '4', '5']\n"
     ]
    }
   ],
   "source": [
    "a=[str(i) for i in range(4)]\n",
    "b=[str(i+1) for i in range(5)]\n",
    "c=a+b\n",
    "print (c)"
   ]
  },
  {
   "cell_type": "code",
   "execution_count": null,
   "metadata": {},
   "outputs": [],
   "source": []
  },
  {
   "cell_type": "code",
   "execution_count": 9,
   "metadata": {},
   "outputs": [],
   "source": [
    "dataset=pkl.load(open('../split_data/total_new.pkl','rb'))"
   ]
  },
  {
   "cell_type": "code",
   "execution_count": 10,
   "metadata": {},
   "outputs": [
    {
     "name": "stdout",
     "output_type": "stream",
     "text": [
      "dict_keys(['3', '4', '1', '2', '0'])\n"
     ]
    }
   ],
   "source": [
    "print (dataset.keys())"
   ]
  },
  {
   "cell_type": "code",
   "execution_count": 13,
   "metadata": {},
   "outputs": [
    {
     "name": "stdout",
     "output_type": "stream",
     "text": [
      "@amyjohnstonn_ I was only trying to help you cunt\n",
      "@zaynmalik how ya going you mad cunt?? 😂👌🏻\n",
      "@UnoriginalButt I'm gonna eat your ass faggot\n",
      "@REALIcePoseidon you've got a natural talent for being a weird Cunt. Don't let one persons actions define your future holmes. Chin up.\n",
      "@delon03 The #WhitePower alliance seems legit\n",
      "@maxmoefoe @YouTube You cunt. I love you but you're a cunt.\n",
      "@Pronnee your logo is shit, looks like a retarded fish\n",
      "My advice of the day: If your a tranny.....go fuck your self! http://t.co/W5G2zhZkU6\n",
      "@fortunefunny not a fan but it makes sense if you like if you're white trash 😉\n",
      "@CELTICGLASGOW_7 @ScotlandSky @Morton_FC See you are as classy as Lennon. \"Cunt\" \"helmet\". Goodbye.\n",
      "@Ashenguy check your dms faggot.\n"
     ]
    }
   ],
   "source": [
    "test=dataset['0']\n",
    "count=0\n",
    "for row in test:\n",
    "    lab=row['answer']\n",
    "    sent=row['sent']\n",
    "    if lab==0:\n",
    "        if count>10:\n",
    "            break\n",
    "        print(sent)\n",
    "        count+=1"
   ]
  },
  {
   "cell_type": "code",
   "execution_count": 14,
   "metadata": {},
   "outputs": [
    {
     "name": "stdout",
     "output_type": "stream",
     "text": [
      "@touchednut @tommy_litch God damn you are so retarded\n",
      "@xemilytx shut ur fucking mouth cunt\n",
      "Jamaican killer we can’t deport because he is GAY: Illegal migrant suddenly remembers he is homos… daily.ai/Rp3SLi via @usr\n",
      "@disarmoz Are you retarded?\n",
      "@TripleH  Your a fucking asshole you  son of a bitch an your cunt wife does not deserve that aware.\n",
      "@TarnerRyan @vKratic @Jschumaker12 @InfinityWard but it also says that you are in the US in your bio so you must be retarded\n",
      "@realDonaldTrump U need help, U R unwell, U R unstable, emotionally retarded, delusional, psychotic, paranoid. UR a danger to others.\n",
      "@johnoates21 @Casey_Hill19 @ChoppingJordan you ya lazy cunt I'm off home 😂\n",
      "@DVO__  to drink u faggot, u must be waiting for me to do that so u can go smack\n",
      "@TedNugent GREAT job demo'ing what a redneck graceless lowlife you &amp; fellow graceless lowlifes are, mocking the Clinton painting. GROW UP. https://t.co/7D2OcS9fTv\n",
      "@lukemorris211 soppy cunt, you are &lt;3\n"
     ]
    }
   ],
   "source": [
    "test=dataset['1']\n",
    "count=0\n",
    "for row in test:\n",
    "    lab=row['answer']\n",
    "    sent=row['sent']\n",
    "    if lab==0:\n",
    "        if count>10:\n",
    "            break\n",
    "        print(sent)\n",
    "        count+=1"
   ]
  },
  {
   "cell_type": "code",
   "execution_count": null,
   "metadata": {},
   "outputs": [],
   "source": []
  }
 ],
 "metadata": {
  "kernelspec": {
   "display_name": "Python3.5",
   "language": "python",
   "name": "reinforceenv"
  },
  "language_info": {
   "codemirror_mode": {
    "name": "ipython",
    "version": 3
   },
   "file_extension": ".py",
   "mimetype": "text/x-python",
   "name": "python",
   "nbconvert_exporter": "python",
   "pygments_lexer": "ipython3",
   "version": "3.5.2"
  }
 },
 "nbformat": 4,
 "nbformat_minor": 2
}
